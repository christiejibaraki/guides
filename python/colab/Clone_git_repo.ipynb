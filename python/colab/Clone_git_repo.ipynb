{
  "nbformat": 4,
  "nbformat_minor": 0,
  "metadata": {
    "colab": {
      "name": "GitRepo Test",
      "provenance": [],
      "collapsed_sections": []
    },
    "kernelspec": {
      "name": "python3",
      "display_name": "Python 3"
    },
    "language_info": {
      "name": "python"
    }
  },
  "cells": [
    {
      "cell_type": "markdown",
      "source": [
        "# Clone git repo on google drive\n",
        "Repo: https://github.com/cmsc-25700/metaphor-detection"
      ],
      "metadata": {
        "id": "p-uu_u5vZWPR"
      }
    },
    {
      "cell_type": "code",
      "execution_count": 1,
      "metadata": {
        "id": "ZJJC-yVCBrk2",
        "colab": {
          "base_uri": "https://localhost:8080/"
        },
        "outputId": "92a3d52e-9f1e-450d-fe8d-2a073374bdab"
      },
      "outputs": [
        {
          "output_type": "stream",
          "name": "stdout",
          "text": [
            "/content/drive\n",
            "Mounted at /content/drive\n"
          ]
        }
      ],
      "source": [
        "# Mount google drive\n",
        "from google.colab import drive\n",
        "ROOT = \"/content/drive\"\n",
        "print(ROOT)                 # print content of ROOT (Optional)\n",
        "\n",
        "drive.mount(ROOT)"
      ]
    },
    {
      "cell_type": "code",
      "source": [
        "%pwd"
      ],
      "metadata": {
        "colab": {
          "base_uri": "https://localhost:8080/",
          "height": 35
        },
        "id": "3DDzXqc6-dfO",
        "outputId": "f02239bf-504e-4535-ff41-518288ad24d0"
      },
      "execution_count": 2,
      "outputs": [
        {
          "output_type": "execute_result",
          "data": {
            "application/vnd.google.colaboratory.intrinsic+json": {
              "type": "string"
            },
            "text/plain": [
              "'/content'"
            ]
          },
          "metadata": {},
          "execution_count": 2
        }
      ]
    },
    {
      "cell_type": "markdown",
      "source": [
        "### Clone repo into \"Repos\" directory\n",
        "Requires a personal access token: https://docs.github.com/en/authentication/keeping-your-account-and-data-secure/creating-a-personal-access-token"
      ],
      "metadata": {
        "id": "ayt6jEttZu04"
      }
    },
    {
      "cell_type": "code",
      "source": [
        "# %cd 'drive/MyDrive/'\n",
        "# !mkdir \"Repos\" \n",
        "# %cd 'drive/MyDrive/Repos/'\n",
        "# %pwd\n",
        "# %ls"
      ],
      "metadata": {
        "id": "saiwWSwGFepn"
      },
      "execution_count": 3,
      "outputs": []
    },
    {
      "cell_type": "code",
      "source": [
        "# clone github repo once\n",
        "# from os.path import join\n",
        "\n",
        "# MY_GOOGLE_DRIVE_PATH = \"MyDrive/Repos\"\n",
        "# GIT_USERNAME = \"cmsc-25700\"\n",
        "# GIT_TOKEN = \"\"\n",
        "# GIT_REPOSITORY = \"metaphor-detection\"\n",
        "# PROJECT_PATH = join(ROOT, MY_GOOGLE_DRIVE_PATH)\n",
        "# print(\"PROJECT_PATH: \", PROJECT_PATH) "
      ],
      "metadata": {
        "id": "4EsOCoN8FDmr"
      },
      "execution_count": 4,
      "outputs": []
    },
    {
      "cell_type": "code",
      "source": [
        "# GIT_PATH = \"https://\" + GIT_TOKEN + \"@github.com/\" + GIT_USERNAME + \"/\" + GIT_REPOSITORY + \".git\"\n",
        "# print(\"GIT_PATH: \", GIT_PATH)"
      ],
      "metadata": {
        "id": "yJhYq78MGIDj"
      },
      "execution_count": 5,
      "outputs": []
    },
    {
      "cell_type": "code",
      "source": [
        "# !git clone \"{GIT_PATH}\""
      ],
      "metadata": {
        "colab": {
          "base_uri": "https://localhost:8080/"
        },
        "id": "NIFuBLDpGNBx",
        "outputId": "cc3b919a-8ca7-498f-e7e4-0cfea14b7254"
      },
      "execution_count": null,
      "outputs": [
        {
          "output_type": "stream",
          "name": "stdout",
          "text": [
            "Cloning into 'metaphor-detection'...\n",
            "remote: Enumerating objects: 347, done.\u001b[K\n",
            "remote: Counting objects: 100% (347/347), done.\u001b[K\n",
            "remote: Compressing objects: 100% (203/203), done.\u001b[K\n",
            "remote: Total 347 (delta 159), reused 289 (delta 104), pack-reused 0\u001b[K\n",
            "Receiving objects: 100% (347/347), 115.10 KiB | 1.95 MiB/s, done.\n",
            "Resolving deltas: 100% (159/159), done.\n"
          ]
        }
      ]
    },
    {
      "cell_type": "code",
      "source": [
        "# %cd 'metaphor-detection'"
      ],
      "metadata": {
        "colab": {
          "base_uri": "https://localhost:8080/"
        },
        "id": "NT9DS3AGIPe5",
        "outputId": "b3497d17-4dc6-479b-894c-502b832e9de9"
      },
      "execution_count": null,
      "outputs": [
        {
          "output_type": "stream",
          "name": "stdout",
          "text": [
            "/content/drive/MyDrive/Repos/metaphor-detection\n"
          ]
        }
      ]
    },
    {
      "cell_type": "code",
      "source": [
        "%pwd\n",
        "%cd 'drive/MyDrive/Repos/metaphor-detection'"
      ],
      "metadata": {
        "colab": {
          "base_uri": "https://localhost:8080/"
        },
        "id": "VkRYx01lY8cd",
        "outputId": "33fd40c2-69b7-4a91-ec44-10d06ec12ee9"
      },
      "execution_count": 6,
      "outputs": [
        {
          "output_type": "stream",
          "name": "stdout",
          "text": [
            "/content/drive/MyDrive/Repos/metaphor-detection\n"
          ]
        }
      ]
    },
    {
      "cell_type": "code",
      "source": [
        "!ls"
      ],
      "metadata": {
        "colab": {
          "base_uri": "https://localhost:8080/"
        },
        "id": "lOQv6d-SZTMf",
        "outputId": "75b97c6d-dc0d-4854-af7d-21a30023b45a"
      },
      "execution_count": 7,
      "outputs": [
        {
          "output_type": "stream",
          "name": "stdout",
          "text": [
            "core  gao-g-requirements.txt  install.sh  notebooks  README.md\tresources\n"
          ]
        }
      ]
    },
    {
      "cell_type": "markdown",
      "source": [
        "## Proceed as usual"
      ],
      "metadata": {
        "id": "A2rAPM_lZ9jJ"
      }
    },
    {
      "cell_type": "code",
      "source": [
        "!git status"
      ],
      "metadata": {
        "colab": {
          "base_uri": "https://localhost:8080/"
        },
        "id": "3YnQLOfQI8Fh",
        "outputId": "f33f1d03-8fa7-44e7-c5a5-18142b8756b5"
      },
      "execution_count": 13,
      "outputs": [
        {
          "output_type": "stream",
          "name": "stdout",
          "text": [
            "On branch replicate-trofi-seq\n",
            "Your branch is up to date with 'origin/replicate-trofi-seq'.\n",
            "\n",
            "nothing to commit, working tree clean\n"
          ]
        }
      ]
    },
    {
      "cell_type": "code",
      "source": [
        "!git config --global user.email \"christine.ibaraki@gmail.com\""
      ],
      "metadata": {
        "id": "7We-9nGze4cX"
      },
      "execution_count": 9,
      "outputs": []
    },
    {
      "cell_type": "code",
      "source": [
        "!git add .\n",
        "!git commit -m \"recreate data and check imports. \"\n",
        "!git push"
      ],
      "metadata": {
        "colab": {
          "base_uri": "https://localhost:8080/"
        },
        "id": "EizO-PUKBAi3",
        "outputId": "16b03e02-d854-4ad8-ace1-ce22446eca5c"
      },
      "execution_count": 11,
      "outputs": [
        {
          "output_type": "stream",
          "name": "stdout",
          "text": [
            "[replicate-trofi-seq fb614dd] recreate data and check imports.\n",
            " 4 files changed, 3 insertions(+), 432 deletions(-)\n",
            " rewrite notebooks/Download_large_data.ipynb (97%)\n",
            " rewrite notebooks/eda/Create_Data_Summary_Tables.ipynb (100%)\n",
            " delete mode 100644 notebooks/sequence/.gitkeep\n",
            " rewrite notebooks/sequence/replicate_trofi_seq_model_for_classification.ipynb (97%)\n",
            "Counting objects: 8, done.\n",
            "Delta compression using up to 2 threads.\n",
            "Compressing objects: 100% (8/8), done.\n",
            "Writing objects: 100% (8/8), 6.23 KiB | 912.00 KiB/s, done.\n",
            "Total 8 (delta 4), reused 0 (delta 0)\n",
            "remote: Resolving deltas: 100% (4/4), completed with 4 local objects.\u001b[K\n",
            "To https://github.com/cmsc-25700/metaphor-detection.git\n",
            "   a895ec8..fb614dd  replicate-trofi-seq -> replicate-trofi-seq\n"
          ]
        }
      ]
    },
    {
      "cell_type": "code",
      "source": [
        "!git status"
      ],
      "metadata": {
        "colab": {
          "base_uri": "https://localhost:8080/"
        },
        "id": "jWpfUM1jBKJe",
        "outputId": "a8b4b015-cf16-485d-e3b7-655795c0b62a"
      },
      "execution_count": 12,
      "outputs": [
        {
          "output_type": "stream",
          "name": "stdout",
          "text": [
            "On branch replicate-trofi-seq\n",
            "Your branch is up to date with 'origin/replicate-trofi-seq'.\n",
            "\n",
            "nothing to commit, working tree clean\n"
          ]
        }
      ]
    }
  ]
}